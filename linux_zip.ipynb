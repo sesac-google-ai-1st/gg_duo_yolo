{
 "cells": [
  {
   "cell_type": "markdown",
   "id": "a9baa6ab-4dde-439b-8c68-b8f8db4c7237",
   "metadata": {},
   "source": [
    "# Google Cloud Bucket의 데이터 다운받기"
   ]
  },
  {
   "cell_type": "code",
   "execution_count": 154,
   "id": "fc7479ad-8ea0-4173-af29-6ceecf9911fc",
   "metadata": {
    "tags": []
   },
   "outputs": [
    {
     "name": "stdout",
     "output_type": "stream",
     "text": [
      "gs://highway-ggyolo/train_image_1234.z01\n",
      "gs://highway-ggyolo/train_image_1234.z02\n",
      "gs://highway-ggyolo/train_image_1234.z03\n",
      "gs://highway-ggyolo/train_image_1234.z04\n",
      "gs://highway-ggyolo/train_image_1234.z05\n",
      "gs://highway-ggyolo/train_image_1234.z06\n",
      "gs://highway-ggyolo/train_image_1234.z07\n",
      "gs://highway-ggyolo/train_image_1234.zip\n",
      "gs://highway-ggyolo/train_labels_1234.zip\n",
      "gs://highway-ggyolo/val_image_1234.zip\n",
      "gs://highway-ggyolo/val_labels_1234.zip\n"
     ]
    }
   ],
   "source": [
    "# 공유받은 버킷 안 압축파일 확인하기\n",
    "!gsutil ls -r gs://highway-ggyolo/"
   ]
  },
  {
   "cell_type": "code",
   "execution_count": 10,
   "id": "aa15a05e-db11-4150-9728-2c843ab5e0c9",
   "metadata": {},
   "outputs": [
    {
     "name": "stdout",
     "output_type": "stream",
     "text": [
      "Copying gs://highway-ggyolo/train_image_1234.zip...\n",
      "- [1/1 files][  1.8 GiB/  1.8 GiB] 100% Done  74.8 MiB/s ETA 00:00:00           \n",
      "Operation completed over 1 objects/1.8 GiB.                                      \n"
     ]
    }
   ],
   "source": [
    "# 버킷 안 압축파일을 로컬에 다운로드하기\n",
    "!gsutil -m cp gs://highway-ggyolo/train_image_1234.zip train_image_1234.zip"
   ]
  },
  {
   "cell_type": "code",
   "execution_count": 15,
   "id": "44dd685a-b750-4ed3-83ef-d6275d68cfa8",
   "metadata": {
    "tags": []
   },
   "outputs": [
    {
     "name": "stdout",
     "output_type": "stream",
     "text": [
      "Copying gs://highway-ggyolo/train_image_1234.z01...\n",
      "\\ [1/1 files][  4.0 GiB/  4.0 GiB] 100% Done  61.0 MiB/s ETA 00:00:00           \n",
      "Operation completed over 1 objects/4.0 GiB.                                      \n"
     ]
    }
   ],
   "source": [
    "!gsutil -m cp gs://highway-ggyolo/train_image_1234.z01 train_image_1234.z01"
   ]
  },
  {
   "cell_type": "code",
   "execution_count": 16,
   "id": "1022d292-dcf8-43a2-a09b-3d52b8bf0a2a",
   "metadata": {
    "tags": []
   },
   "outputs": [
    {
     "name": "stdout",
     "output_type": "stream",
     "text": [
      "Copying gs://highway-ggyolo/train_image_1234.z02...\n",
      "/ [1/1 files][  4.0 GiB/  4.0 GiB] 100% Done  65.0 MiB/s ETA 00:00:00           \n",
      "Operation completed over 1 objects/4.0 GiB.                                      \n"
     ]
    }
   ],
   "source": [
    "!gsutil -m cp gs://highway-ggyolo/train_image_1234.z02 train_image_1234.z02"
   ]
  },
  {
   "cell_type": "code",
   "execution_count": 17,
   "id": "1fd7ab21-ac4c-4348-b044-4e8fd5e125d7",
   "metadata": {
    "tags": []
   },
   "outputs": [
    {
     "name": "stdout",
     "output_type": "stream",
     "text": [
      "Copying gs://highway-ggyolo/train_image_1234.z03...\n",
      "- [1/1 files][  4.0 GiB/  4.0 GiB] 100% Done  68.9 MiB/s ETA 00:00:00           \n",
      "Operation completed over 1 objects/4.0 GiB.                                      \n"
     ]
    }
   ],
   "source": [
    "!gsutil -m cp gs://highway-ggyolo/train_image_1234.z03 train_image_1234.z03"
   ]
  },
  {
   "cell_type": "code",
   "execution_count": 18,
   "id": "63b95ac5-77c5-45f8-82e7-5ef584386ba4",
   "metadata": {
    "tags": []
   },
   "outputs": [
    {
     "name": "stdout",
     "output_type": "stream",
     "text": [
      "Copying gs://highway-ggyolo/train_image_1234.z04...\n",
      "- [1/1 files][  4.0 GiB/  4.0 GiB] 100% Done  74.7 MiB/s ETA 00:00:00           \n",
      "Operation completed over 1 objects/4.0 GiB.                                      \n"
     ]
    }
   ],
   "source": [
    "!gsutil -m cp gs://highway-ggyolo/train_image_1234.z04 train_image_1234.z04"
   ]
  },
  {
   "cell_type": "code",
   "execution_count": 19,
   "id": "0c8db573-35c5-40bc-9a74-8275b3bd74b2",
   "metadata": {
    "tags": []
   },
   "outputs": [
    {
     "name": "stdout",
     "output_type": "stream",
     "text": [
      "Copying gs://highway-ggyolo/train_image_1234.z05...\n",
      "- [1/1 files][  4.0 GiB/  4.0 GiB] 100% Done  77.1 MiB/s ETA 00:00:00           \n",
      "Operation completed over 1 objects/4.0 GiB.                                      \n"
     ]
    }
   ],
   "source": [
    "!gsutil -m cp gs://highway-ggyolo/train_image_1234.z05 train_image_1234.z05"
   ]
  },
  {
   "cell_type": "code",
   "execution_count": 20,
   "id": "e5778391-38ee-4def-94c7-9170a2a2ed3f",
   "metadata": {
    "tags": []
   },
   "outputs": [
    {
     "name": "stdout",
     "output_type": "stream",
     "text": [
      "Copying gs://highway-ggyolo/train_image_1234.z06...\n",
      "\\ [1/1 files][  4.0 GiB/  4.0 GiB] 100% Done  65.6 MiB/s ETA 00:00:00           \n",
      "Operation completed over 1 objects/4.0 GiB.                                      \n"
     ]
    }
   ],
   "source": [
    "!gsutil -m cp gs://highway-ggyolo/train_image_1234.z06 train_image_1234.z06"
   ]
  },
  {
   "cell_type": "code",
   "execution_count": 21,
   "id": "991a29bc-e5d5-4a06-90f8-459091e3ed58",
   "metadata": {
    "tags": []
   },
   "outputs": [
    {
     "name": "stdout",
     "output_type": "stream",
     "text": [
      "Copying gs://highway-ggyolo/train_image_1234.z07...\n",
      "/ [1/1 files][  4.0 GiB/  4.0 GiB] 100% Done  66.4 MiB/s ETA 00:00:00           \n",
      "Operation completed over 1 objects/4.0 GiB.                                      \n"
     ]
    }
   ],
   "source": [
    "!gsutil -m cp gs://highway-ggyolo/train_image_1234.z07 train_image_1234.z07"
   ]
  },
  {
   "cell_type": "code",
   "execution_count": 38,
   "id": "aaaeebe1-ed31-4c9c-97fb-79e8df2b1f4d",
   "metadata": {
    "tags": []
   },
   "outputs": [
    {
     "name": "stdout",
     "output_type": "stream",
     "text": [
      "Copying gs://highway-ggyolo/train_labels_1234.zip...\n",
      "/ [1/1 files][  6.0 MiB/  6.0 MiB] 100% Done                                    \n",
      "Operation completed over 1 objects/6.0 MiB.                                      \n"
     ]
    }
   ],
   "source": [
    "!gsutil -m cp gs://highway-ggyolo/train_labels_1234.zip train_labels_1234.zip"
   ]
  },
  {
   "cell_type": "code",
   "execution_count": 39,
   "id": "18700c0e-71b6-49b5-9f04-28e3b508f106",
   "metadata": {
    "tags": []
   },
   "outputs": [
    {
     "name": "stdout",
     "output_type": "stream",
     "text": [
      "Copying gs://highway-ggyolo/val_image_1234.zip...\n",
      "| [1/1 files][  3.9 GiB/  3.9 GiB] 100% Done  67.2 MiB/s ETA 00:00:00           \n",
      "Operation completed over 1 objects/3.9 GiB.                                      \n"
     ]
    }
   ],
   "source": [
    "!gsutil -m cp gs://highway-ggyolo/val_image_1234.zip val_image_1234.zip"
   ]
  },
  {
   "cell_type": "code",
   "execution_count": 40,
   "id": "f06ceb18-8957-43ce-9e35-37c37187b512",
   "metadata": {
    "tags": []
   },
   "outputs": [
    {
     "name": "stdout",
     "output_type": "stream",
     "text": [
      "Copying gs://highway-ggyolo/val_labels_1234.zip...\n",
      "/ [1/1 files][785.3 KiB/785.3 KiB] 100% Done                                    \n",
      "Operation completed over 1 objects/785.3 KiB.                                    \n"
     ]
    }
   ],
   "source": [
    "!gsutil -m cp gs://highway-ggyolo/val_labels_1234.zip val_labels_1234.zip"
   ]
  },
  {
   "cell_type": "code",
   "execution_count": null,
   "id": "3f3cb4a8-2821-4131-9359-6712ddde4819",
   "metadata": {
    "tags": []
   },
   "outputs": [],
   "source": [
    "# 분할된 zip 파일을 하나의 zip 파일로 합치기\n",
    "# 무려 30분이나 걸림..다른 방법 있나요??\n",
    "!zip -s 0 train_image_1234.zip --out train_image.zip"
   ]
  },
  {
   "cell_type": "markdown",
   "id": "772b46a5-a053-4bce-9aec-1e50519e580d",
   "metadata": {},
   "source": [
    "# 데이터 압축 풀 파일 생성하고 압축풀기"
   ]
  },
  {
   "cell_type": "code",
   "execution_count": 38,
   "id": "b7868aa7-6084-49d9-9a3e-d2318df63753",
   "metadata": {
    "tags": []
   },
   "outputs": [],
   "source": [
    "# HOME 디렉토리 설정하기\n",
    "HOME = '/home/jupyter'"
   ]
  },
  {
   "cell_type": "code",
   "execution_count": 39,
   "id": "c71f45f6-cc5d-4852-abe3-99c6543b1d29",
   "metadata": {
    "tags": []
   },
   "outputs": [
    {
     "name": "stdout",
     "output_type": "stream",
     "text": [
      "/home/jupyter\n",
      "mkdir: cannot create directory ‘highway’: File exists\n",
      "mkdir: cannot create directory ‘highway/train’: File exists\n",
      "mkdir: cannot create directory ‘highway/train/images’: File exists\n",
      "mkdir: cannot create directory ‘highway/train/xmls’: File exists\n",
      "mkdir: cannot create directory ‘highway/valid’: File exists\n",
      "mkdir: cannot create directory ‘highway/valid/images’: File exists\n",
      "mkdir: cannot create directory ‘highway/valid/xmls’: File exists\n"
     ]
    }
   ],
   "source": [
    "# train, validation 데이터셋 폴더 생성하기 (images / xmls(xml)/ labels(txt))\n",
    "%cd {HOME}\n",
    "!mkdir highway\n",
    "!mkdir highway/train\n",
    "!mkdir highway/train/images\n",
    "!mkdir highway/train/xmls\n",
    "!mkdir highway/train/labels\n",
    "!mkdir highway/val\n",
    "!mkdir highway/val/images\n",
    "!mkdir highway/val/xmls\n",
    "!mkdir highway/val/labels"
   ]
  },
  {
   "cell_type": "code",
   "execution_count": 36,
   "id": "4242c884-8c44-4e8a-a177-9f5b46898337",
   "metadata": {
    "tags": []
   },
   "outputs": [],
   "source": [
    "# train images 압축파일 위치 바꾸기\n",
    "!mv ./train_image.zip ./highway/train/images/train_image.zip"
   ]
  },
  {
   "cell_type": "code",
   "execution_count": null,
   "id": "3f91ed1c-bf90-4e15-99b4-75ab621f1a54",
   "metadata": {},
   "outputs": [],
   "source": [
    "# train images 압축파일 풀기\n",
    "# 8시 51분 unzip 시작 - 약 1시간 30분 걸림\n",
    "%cd {HOME}\n",
    "%cd ./highway/train/images\n",
    "!unzip train_image.zip"
   ]
  },
  {
   "cell_type": "code",
   "execution_count": 41,
   "id": "b1848ed4-d4e3-4374-b4f1-e893b25288de",
   "metadata": {
    "tags": []
   },
   "outputs": [],
   "source": [
    "# train labels 압축파일 위치 변경하기\n",
    "!mv ./train_labels_1234.zip ./highway/train/xmls/train_labels_1234.zip"
   ]
  },
  {
   "cell_type": "code",
   "execution_count": null,
   "id": "b542a6b3-e693-486d-915e-345088a2d83c",
   "metadata": {
    "tags": []
   },
   "outputs": [],
   "source": [
    "# train labels 압축파일 풀기\n",
    "%cd ./highway/train/xmls\n",
    "!unzip train_labels_1234.zip"
   ]
  },
  {
   "cell_type": "code",
   "execution_count": 43,
   "id": "a0d4adfe-382c-4f08-b730-81f915de4e27",
   "metadata": {
    "tags": []
   },
   "outputs": [],
   "source": [
    "# valid images 압축파일 위치 변경하기\n",
    "!mv ./val_image_1234.zip ./highway/val/images/val_image_1234.zip"
   ]
  },
  {
   "cell_type": "code",
   "execution_count": null,
   "id": "8587b67c-c18a-4c0f-aba4-97c2626cb102",
   "metadata": {
    "tags": []
   },
   "outputs": [],
   "source": [
    "# valid images 압축파일 풀기\n",
    "%cd {HOME}\n",
    "%cd ./highway/val/images\n",
    "!unzip val_image_1234.zip"
   ]
  },
  {
   "cell_type": "code",
   "execution_count": 44,
   "id": "2da0de05-9e86-4cb5-acb6-23aca589f65b",
   "metadata": {
    "tags": []
   },
   "outputs": [],
   "source": [
    "# valid labels 압축파일 위치 변경하기\n",
    "!mv ./val_labels_1234.zip ./highway/val/xmls/val_labels_1234.zip"
   ]
  },
  {
   "cell_type": "code",
   "execution_count": 57,
   "id": "1c4f6804-d40b-45c2-8bbf-4c5522974bb7",
   "metadata": {
    "tags": []
   },
   "outputs": [
    {
     "name": "stdout",
     "output_type": "stream",
     "text": [
      "/home/jupyter\n",
      "/home/jupyter/highway/valid/xmls\n",
      "Archive:  val_labels_1234.zip\n",
      "   creating: [라벨]1.수도권영동선/\n",
      "  inflating: [라벨]1.수도권영동선/Suwon_CH01_20200720_1830_MON_9m_RH_highway_TW5_sunny_FHD.xml  \n",
      "  inflating: [라벨]1.수도권영동선/Suwon_CH01_20200721_1700_TUE_9m_RH_highway_TW5_sunny_FHD.xml  \n",
      "  inflating: [라벨]1.수도권영동선/Suwon_CH01_20200722_1430_WED_9m_NH_highway_TW5_rainy_FHD.xml  \n",
      "  inflating: [라벨]1.수도권영동선/Suwon_CH01_20200722_1930_WED_9m_NH_highway_TW5_sunny_FHD.xml  \n",
      "  inflating: [라벨]1.수도권영동선/Suwon_CH01_20201012_1723_MON_9m_RH_highway_TW5_sunny_FHD.xml  \n",
      "  inflating: [라벨]1.수도권영동선/Suwon_CH01_20201213_1200_SUN_9m_NH_highway_TW5_snow_FHD.xml  \n",
      "  inflating: [라벨]1.수도권영동선/Suwon_CH02_20200720_2130_MON_9m_NH_highway_TW5_sunny_FHD.xml  \n",
      "  inflating: [라벨]1.수도권영동선/Suwon_CH02_20200721_2030_TUE_9m_NH_highway_TW5_sunny_FHD.xml  \n",
      "  inflating: [라벨]1.수도권영동선/Suwon_CH02_20200722_1730_WED_9m_NH_highway_TW5_sunny_FHD.xml  \n",
      "  inflating: [라벨]1.수도권영동선/Suwon_CH02_20201011_1806_SUN_9m_RH_highway_TW5_sunny_FHD.xml  \n",
      "  inflating: [라벨]1.수도권영동선/Suwon_CH02_20201213_0933_SUN_9m_NH_highway_TW5_snow_FHD.xml  \n",
      "  inflating: [라벨]1.수도권영동선/Suwon_CH03_20200720_2030_MON_9m_NH_highway_OW5_sunny_FHD.xml  \n",
      "  inflating: [라벨]1.수도권영동선/Suwon_CH03_20200721_2000_TUE_9m_NH_highway_OW5_sunny_FHD.xml  \n",
      "  inflating: [라벨]1.수도권영동선/Suwon_CH03_20200722_1700_WED_9m_NH_highway_OW5_sunny_FHD.xml  \n",
      "  inflating: [라벨]1.수도권영동선/Suwon_CH03_20201011_1742_SUN_9m_RH_highway_OW5_sunny_FHD.xml  \n",
      "  inflating: [라벨]1.수도권영동선/Suwon_CH03_20201012_1933_MON_9m_RH_highway_OW5_sunny_FHD.xml  \n",
      "  inflating: [라벨]1.수도권영동선/Suwon_CH04_20200720_1830_MON_9m_NH_highway_OW5_sunny_FHD.xml  \n",
      "  inflating: [라벨]1.수도권영동선/Suwon_CH04_20200721_1830_TUE_9m_RH_highway_OW5_sunny_FHD.xml  \n",
      "  inflating: [라벨]1.수도권영동선/Suwon_CH04_20200722_1600_WED_9m_NH_highway_OW5_rainy_FHD.xml  \n",
      "  inflating: [라벨]1.수도권영동선/Suwon_CH04_20201010_1818_SAT_9m_RH_highway_OW5_sunny_FHD.xml  \n",
      "  inflating: [라벨]1.수도권영동선/Suwon_CH04_20201012_1838_MON_9m_RH_highway_OW5_sunny_FHD.xml  \n"
     ]
    }
   ],
   "source": [
    "# valid labels 압축파일 풀기\n",
    "%cd {HOME}\n",
    "%cd ./highway/val/xmls\n",
    "!unzip val_labels_1234.zip"
   ]
  },
  {
   "cell_type": "markdown",
   "id": "bf0f6a9b-5874-49a8-957c-a8614e95c918",
   "metadata": {},
   "source": [
    "# 데이터 전처리하기"
   ]
  },
  {
   "cell_type": "code",
   "execution_count": 14,
   "id": "3c071ee1-d6b5-43aa-81ff-2943735e12c8",
   "metadata": {},
   "outputs": [
    {
     "name": "stdout",
     "output_type": "stream",
     "text": [
      "/home/jupyter\n",
      "/home/jupyter/highway/train/xmls\n"
     ]
    },
    {
     "data": {
      "text/plain": [
       "['',\n",
       " 'Suwon_CH01_20200722_1900_WED_9m_RH_highway_TW5_sunny_FHD.xml',\n",
       " 'Suwon_CH02_20200721_1800_TUE_9m_RH_highway_TW5_sunny_FHD.xml',\n",
       " 'Suwon_CH03_20200720_1930_MON_9m_NH_highway_OW5_sunny_FHD.xml',\n",
       " 'Suwon_CH01_20201011_1830_SUN_9m_RH_highway_TW5_sunny_FHD.xml',\n",
       " 'Suwon_CH04_20200721_1700_TUE_9m_RH_highway_OW5_sunny_FHD.xml',\n",
       " 'Suwon_CH02_20200722_1700_WED_9m_RH_highway_TW5_sunny_FHD.xml',\n",
       " 'Suwon_CH02_20200720_1930_MON_9m_NH_highway_TW5_sunny_FHD.xml',\n",
       " 'Suwon_CH02_20200721_1530_TUE_9m_NH_highway_TW5_sunny_FHD.xml',\n",
       " 'Suwon_CH02_20200721_1600_TUE_9m_NH_highway_TW5_sunny_FHD.xml',\n",
       " 'Suwon_CH03_20200721_1700_TUE_9m_RH_highway_OW5_sunny_FHD.xml',\n",
       " 'Suwon_CH03_20200722_1630_WED_9m_NH_highway_OW5_sunny_FHD.xml',\n",
       " 'Suwon_CH03_20201012_1802_MON_9m_RH_highway_OW5_sunny_FHD.xml',\n",
       " 'Suwon_CH03_20200721_1800_TUE_9m_RH_highway_OW5_sunny_FHD.xml',\n",
       " 'Suwon_CH03_20201012_1732_MON_9m_RH_highway_OW5_sunny_FHD.xml',\n",
       " 'Suwon_CH03_20201213_0704_SUN_9m_NH_highway_OW5_snow_FHD.xml',\n",
       " 'Suwon_CH03_20201011_1843_SUN_9m_RH_highway_OW5_sunny_FHD.xml',\n",
       " 'Suwon_CH04_20200721_1930_TUE_9m_NH_highway_OW5_sunny_FHD.xml',\n",
       " 'Suwon_CH04_20200721_1630_TUE_9m_NH_highway_OW5_sunny_FHD.xml',\n",
       " 'Suwon_CH04_20200720_2000_MON_9m_NH_highway_OW5_sunny_FHD.xml',\n",
       " 'Suwon_CH04_20200722_1400_WED_9m_NH_highway_OW5_rainy_FHD.xml',\n",
       " 'Suwon_CH02_20200722_1530_WED_9m_NH_highway_TW5_rainy_FHD.xml',\n",
       " 'Suwon_CH01_20200721_1600_TUE_9m_NH_highway_TW5_sunny_FHD.xml',\n",
       " 'Suwon_CH01_20201011_1900_SUN_9m_RH_highway_TW5_sunny_FHD.xml',\n",
       " 'Suwon_CH01_20200722_1800_WED_9m_RH_highway_TW5_sunny_FHD.xml',\n",
       " 'Suwon_CH03_20200720_1830_MON_9m_NH_highway_OW5_sunny_FHD.xml',\n",
       " 'Suwon_CH01_20201010_1730_SAT_9m_RH_highway_TW5_sunny_FHD.xml',\n",
       " 'Suwon_CH02_20200721_2130_TUE_9m_NH_highway_TW5_sunny_FHD.xml',\n",
       " 'Suwon_CH04_20201011_1717_SUN_9m_NH_highway_OW5_sunny_FHD.xml',\n",
       " 'Suwon_CH02_20201012_1657_MON_9m_RH_highway_TW5_sunny_FHD.xml',\n",
       " 'Suwon_CH02_20201012_1928_MON_9m_RH_highway_TW5_sunny_FHD.xml',\n",
       " 'Suwon_CH01_20200721_2100_TUE_9m_NH_highway_TW5_sunny_FHD.xml',\n",
       " 'Suwon_CH01_20200721_1800_TUE_9m_RH_highway_TW5_sunny_FHD.xml',\n",
       " 'Suwon_CH02_20200720_1700_MON_9m_NH_highway_TW5_sunny_FHD.xml',\n",
       " 'Suwon_CH01_20200722_1600_WED_9m_RH_highway_TW5_rainy_FHD.xml',\n",
       " 'Suwon_CH02_20200721_2000_TUE_9m_NH_highway_TW5_sunny_FHD.xml',\n",
       " 'Suwon_CH02_20201012_1728_MON_9m_RH_highway_TW5_sunny_FHD.xml',\n",
       " 'Suwon_CH02_20201213_1204_SUN_9m_NH_highway_TW5_snow_FHD.xml',\n",
       " 'Suwon_CH01_20200721_1930_TUE_9m_RH_highway_TW5_sunny_FHD.xml',\n",
       " 'Suwon_CH04_20201012_1908_MON_9m_RH_highway_OW5_sunny_FHD.xml',\n",
       " 'Suwon_CH04_20201010_1748_SAT_9m_RH_highway_OW5_sunny_FHD.xml',\n",
       " 'Suwon_CH03_20200720_2000_MON_9m_NH_highway_OW5_sunny_FHD.xml',\n",
       " 'Suwon_CH04_20200720_1900_MON_9m_NH_highway_OW5_sunny_FHD.xml',\n",
       " 'Suwon_CH02_20201011_1736_SUN_9m_RH_highway_TW5_sunny_FHD.xml',\n",
       " 'Suwon_CH04_20200722_1900_WED_9m_NH_highway_OW5_sunny_FHD.xml',\n",
       " 'Suwon_CH01_20201213_1030_SUN_9m_NH_highway_TW5_snow_FHD.xml',\n",
       " 'Suwon_CH01_20201012_1653_MON_9m_RH_highway_TW5_sunny_FHD.xml',\n",
       " 'Suwon_CH04_20201011_1919_SUN_9m_RH_highway_OW5_sunny_FHD.xml',\n",
       " 'Suwon_CH01_20200722_1630_WED_9m_RH_highway_TW5_sunny_FHD.xml',\n",
       " 'Suwon_CH03_20200721_2100_TUE_9m_NH_highway_OW5_sunny_FHD.xml',\n",
       " 'Suwon_CH02_20201012_1858_MON_9m_RH_highway_TW5_sunny_FHD.xml',\n",
       " 'Suwon_CH02_20200721_1500_TUE_9m_NH_highway_TW5_sunny_FHD.xml',\n",
       " 'Suwon_CH01_20200720_1730_MON_9m_NH_highway_TW5_sunny_FHD.xml',\n",
       " 'Suwon_CH02_20200722_1630_WED_9m_RH_highway_TW5_rainy_FHD.xml',\n",
       " 'Suwon_CH04_20200722_1800_WED_9m_NH_highway_OW5_sunny_FHD.xml',\n",
       " 'Suwon_CH03_20200720_1700_MON_9m_NH_highway_OW5_sunny_FHD.xml',\n",
       " 'Suwon_CH01_20201012_1753_MON_9m_RH_highway_TW5_sunny_FHD.xml',\n",
       " 'Suwon_CH01_20201213_0930_SUN_9m_NH_highway_TW5_snow_FHD.xml',\n",
       " 'Suwon_CH03_20201213_0936_SUN_9m_NH_highway_OW5_snow_FHD.xml',\n",
       " 'Suwon_CH01_20201012_1853_MON_9m_RH_highway_TW5_sunny_FHD.xml',\n",
       " 'Suwon_CH03_20201010_1913_SAT_9m_NH_highway_OW5_sunny_FHD.xml',\n",
       " 'Suwon_CH02_20201010_1837_SAT_9m_RH_highway_TW5_sunny_FHD.xml',\n",
       " 'Suwon_CH01_20200720_1900_MON_9m_RH_highway_TW5_sunny_FHD.xml',\n",
       " 'Suwon_CH02_20200722_1400_WED_9m_NH_highway_TW5_rainy_FHD.xml',\n",
       " 'Suwon_CH03_20200721_2030_TUE_9m_NH_highway_OW5_sunny_FHD.xml',\n",
       " 'Suwon_CH02_20200722_1930_WED_9m_NH_highway_TW5_sunny_FHD.xml',\n",
       " 'Suwon_CH03_20201012_1833_MON_9m_RH_highway_OW5_sunny_FHD.xml',\n",
       " 'Suwon_CH04_20200722_1530_WED_9m_NH_highway_OW5_rainy_FHD.xml',\n",
       " 'Suwon_CH03_20201010_1742_SAT_9m_RH_highway_OW5_sunny_FHD.xml',\n",
       " 'Suwon_CH01_20200721_1900_TUE_9m_RH_highway_TW5_sunny_FHD.xml',\n",
       " 'Suwon_CH02_20200720_2000_MON_9m_NH_highway_TW5_sunny_FHD.xml',\n",
       " 'Suwon_CH01_20201012_1823_MON_9m_RH_highway_TW5_sunny_FHD.xml',\n",
       " 'Suwon_CH02_20200720_1630_MON_9m_NH_highway_TW5_sunny_FHD.xml',\n",
       " 'Suwon_CH04_20200722_1930_WED_9m_NH_highway_OW5_sunny_FHD.xml',\n",
       " 'Suwon_CH01_20200720_2030_MON_9m_NH_highway_TW5_sunny_FHD.xml',\n",
       " 'Suwon_CH04_20200721_1800_TUE_9m_RH_highway_OW5_sunny_FHD.xml',\n",
       " 'Suwon_CH02_20200720_1830_MON_9m_NH_highway_TW5_sunny_FHD.xml',\n",
       " 'Suwon_CH01_20201010_1900_SAT_9m_NH_highway_TW5_sunny_FHD.xml',\n",
       " 'Suwon_CH03_20201213_1137_SUN_9m_NH_highway_OW5_snow_FHD.xml',\n",
       " 'Suwon_CH03_20200721_1500_TUE_9m_NH_highway_OW5_sunny_FHD.xml',\n",
       " 'Suwon_CH04_20200721_2030_TUE_9m_NH_highway_OW5_sunny_FHD.xml',\n",
       " 'Suwon_CH04_20201012_1706_MON_9m_RH_highway_OW5_sunny_FHD.xml',\n",
       " 'Suwon_CH04_20200722_1430_WED_9m_NH_highway_OW5_rainy_FHD.xml',\n",
       " 'Suwon_CH04_20200722_1500_WED_9m_NH_highway_OW5_rainy_FHD.xml',\n",
       " 'Suwon_CH03_20201010_1812_SAT_9m_RH_highway_OW5_sunny_FHD.xml',\n",
       " 'Suwon_CH03_20201012_1903_MON_9m_RH_highway_OW5_sunny_FHD.xml',\n",
       " 'Suwon_CH03_20200722_1830_WED_9m_RH_highway_OW5_sunny_FHD.xml',\n",
       " 'Suwon_CH02_20200721_2100_TUE_9m_NH_highway_TW5_sunny_FHD.xml',\n",
       " 'Suwon_CH03_20201010_1842_SAT_9m_NH_highway_OW5_sunny_FHD.xml',\n",
       " 'Suwon_CH01_20200722_1830_WED_9m_RH_highway_TW5_sunny_FHD.xml',\n",
       " 'Suwon_CH02_20201012_1828_MON_9m_RH_highway_TW5_sunny_FHD.xml',\n",
       " 'Suwon_CH01_20200721_1500_TUE_9m_NH_highway_TW5_sunny_FHD.xml',\n",
       " 'Suwon_CH02_20201213_1033_SUN_9m_NH_highway_TW5_snow_FHD.xml',\n",
       " 'Suwon_CH02_20201011_1906_SUN_9m_RH_highway_TW5_sunny_FHD.xml',\n",
       " 'Suwon_CH01_20200722_1730_WED_9m_RH_highway_TW5_sunny_FHD.xml',\n",
       " 'Suwon_CH04_20200722_1700_WED_9m_NH_highway_OW5_sunny_FHD.xml',\n",
       " 'Suwon_CH01_20201213_0700_SUN_9m_NH_highway_TW5_snow_FHD.xml',\n",
       " 'Suwon_CH03_20200721_1930_TUE_9m_NH_highway_OW5_sunny_FHD.xml',\n",
       " 'Suwon_CH03_20200721_2130_TUE_9m_NH_highway_OW5_sunny_FHD.xml',\n",
       " 'Suwon_CH02_20200721_1630_TUE_9m_NH_highway_TW5_sunny_FHD.xml',\n",
       " 'Suwon_CH01_20201010_1800_SAT_9m_RH_highway_TW5_sunny_FHD.xml',\n",
       " 'Suwon_CH02_20201011_1836_SUN_9m_RH_highway_TW5_sunny_FHD.xml',\n",
       " 'Suwon_CH03_20200721_1430_TUE_9m_NH_highway_OW5_sunny_FHD.xml',\n",
       " 'Suwon_CH02_20200722_1600_WED_9m_RH_highway_TW5_rainy_FHD.xml',\n",
       " 'Suwon_CH04_20200722_1730_WED_9m_NH_highway_OW5_sunny_FHD.xml',\n",
       " 'Suwon_CH04_20200722_1630_WED_9m_NH_highway_OW5_rainy_FHD.xml',\n",
       " 'Suwon_CH02_20200720_1600_MON_9m_NH_highway_TW5_sunny_FHD.xml',\n",
       " 'Suwon_CH02_20200720_1730_MON_9m_NH_highway_TW5_sunny_FHD.xml',\n",
       " 'Suwon_CH01_20200720_1800_MON_9m_NH_highway_TW5_sunny_FHD.xml',\n",
       " 'Suwon_CH04_20201213_1142_SUN_9m_NH_highway_OW5_snow_FHD.xml',\n",
       " 'Suwon_CH01_20200721_1630_TUE_9m_NH_highway_TW5_sunny_FHD.xml',\n",
       " 'Suwon_CH04_20201012_1807_MON_9m_RH_highway_OW5_sunny_FHD.xml',\n",
       " 'Suwon_CH01_20200721_2030_TUE_9m_NH_highway_TW5_sunny_FHD.xml',\n",
       " 'Suwon_CH03_20201213_0835_SUN_9m_NH_highway_OW5_snow_FHD.xml',\n",
       " 'Suwon_CH01_20201010_1830_SAT_9m_RH_highway_TW5_sunny_FHD.xml',\n",
       " 'Suwon_CH04_20200720_1600_MON_9m_NH_highway_OW5_sunny_FHD.xml',\n",
       " 'Suwon_CH02_20200720_1900_MON_9m_NH_highway_TW5_sunny_FHD.xml',\n",
       " 'Suwon_CH02_20200722_1430_WED_9m_NH_highway_TW5_rainy_FHD.xml',\n",
       " 'Suwon_CH03_20201011_1943_SUN_9m_RH_highway_OW5_sunny_FHD.xml',\n",
       " 'Suwon_CH03_20201011_1812_SUN_9m_RH_highway_OW5_sunny_FHD.xml',\n",
       " 'Suwon_CH03_20200721_1530_TUE_9m_NH_highway_OW5_sunny_FHD.xml',\n",
       " 'Suwon_CH04_20201012_1939_MON_9m_RH_highway_OW5_sunny_FHD.xml',\n",
       " 'Suwon_CH02_20201010_1807_SAT_9m_RH_highway_TW5_sunny_FHD.xml',\n",
       " 'Suwon_CH04_20200720_2030_MON_9m_NH_highway_OW5_sunny_FHD.xml',\n",
       " 'Suwon_CH04_20200721_1900_TUE_9m_RH_highway_OW5_sunny_FHD.xml',\n",
       " 'Suwon_CH02_20200722_1830_WED_9m_RH_highway_TW5_sunny_FHD.xml',\n",
       " 'Suwon_CH03_20200721_1830_TUE_9m_RH_highway_OW5_sunny_FHD.xml',\n",
       " 'Suwon_CH03_20200722_1530_WED_9m_NH_highway_OW5_rainy_FHD.xml',\n",
       " 'Suwon_CH04_20200720_1730_MON_9m_NH_highway_OW5_sunny_FHD.xml',\n",
       " 'Suwon_CH04_20200720_1800_MON_9m_NH_highway_OW5_sunny_FHD.xml',\n",
       " 'Suwon_CH02_20201213_0732_SUN_9m_NH_highway_TW5_snow_FHD.xml',\n",
       " 'Suwon_CH04_20200721_2000_TUE_9m_NH_highway_OW5_sunny_FHD.xml',\n",
       " 'Suwon_CH01_20200720_2000_MON_9m_NH_highway_TW5_sunny_FHD.xml',\n",
       " 'Suwon_CH03_20200721_1600_TUE_9m_NH_highway_OW5_sunny_FHD.xml',\n",
       " 'Suwon_CH04_20200721_1530_TUE_9m_NH_highway_OW5_sunny_FHD.xml',\n",
       " 'Suwon_CH01_20200722_1330_WED_9m_NH_highway_TW5_rainy_FHD.xml',\n",
       " 'Suwon_CH04_20201010_1849_SAT_9m_NH_highway_OW5_sunny_FHD.xml',\n",
       " 'Suwon_CH01_20200722_1400_WED_9m_NH_highway_TW5_rainy_FHD.xml',\n",
       " 'Suwon_CH01_20200721_1730_TUE_9m_RH_highway_TW5_sunny_FHD.xml',\n",
       " 'Suwon_CH04_20201213_0838_SUN_9m_NH_highway_OW5_snow_FHD.xml',\n",
       " 'train_labels_1234.zip',\n",
       " 'Suwon_CH03_20200720_1900_MON_9m_NH_highway_OW5_sunny_FHD.xml',\n",
       " 'Suwon_CH01_20200720_1930_MON_9m_NH_highway_TW5_sunny_FHD.xml',\n",
       " 'Suwon_CH01_20201012_1923_MON_9m_RH_highway_TW5_sunny_FHD.xml',\n",
       " 'Suwon_CH04_20201012_1737_MON_9m_RH_highway_OW5_sunny_FHD.xml',\n",
       " 'Suwon_CH02_20201010_1908_SAT_9m_NH_highway_TW5_sunny_FHD.xml',\n",
       " 'Suwon_CH04_20200720_1700_MON_9m_NH_highway_OW5_sunny_FHD.xml',\n",
       " 'Suwon_CH03_20200722_1800_WED_9m_NH_highway_OW5_sunny_FHD.xml',\n",
       " 'Suwon_CH02_20200721_1930_TUE_9m_RH_highway_TW5_sunny_FHD.xml',\n",
       " 'Suwon_CH02_20200722_1900_WED_9m_RH_highway_TW5_sunny_FHD.xml',\n",
       " 'Suwon_CH01_20200721_1530_TUE_9m_NH_highway_TW5_sunny_FHD.xml',\n",
       " 'Suwon_CH01_20200720_1700_MON_9m_NH_highway_TW5_sunny_FHD.xml',\n",
       " 'Suwon_CH02_20200722_1800_WED_9m_RH_highway_TW5_sunny_FHD.xml',\n",
       " 'Suwon_CH01_20201213_0730_SUN_9m_NH_highway_TW5_snow_FHD.xml',\n",
       " 'Suwon_CH04_20201010_1717_SAT_9m_NH_highway_OW5_sunny_FHD.xml',\n",
       " 'Suwon_CH03_20201011_1913_SUN_9m_RH_highway_OW5_sunny_FHD.xml',\n",
       " 'Suwon_CH03_20200722_1400_WED_9m_NH_highway_OW5_rainy_FHD.xml',\n",
       " 'Suwon_CH02_20200721_1830_TUE_9m_RH_highway_TW5_sunny_FHD.xml',\n",
       " 'Suwon_CH01_20200722_1500_WED_9m_NH_highway_TW5_rainy_FHD.xml',\n",
       " 'Suwon_CH04_20201011_1818_SUN_9m_RH_highway_OW5_sunny_FHD.xml',\n",
       " 'Suwon_CH01_20201011_1800_SUN_9m_RH_highway_TW5_sunny_FHD.xml',\n",
       " 'Suwon_CH04_20200720_1930_MON_9m_NH_highway_OW5_sunny_FHD.xml',\n",
       " 'Suwon_CH04_20201011_1748_SUN_9m_RH_highway_OW5_sunny_FHD.xml',\n",
       " 'Suwon_CH03_20200722_1500_WED_9m_NH_highway_OW5_rainy_FHD.xml',\n",
       " 'Suwon_CH01_20200722_1530_WED_9m_NH_highway_TW5_rainy_FHD.xml',\n",
       " 'Suwon_CH03_20200722_1600_WED_9m_NH_highway_OW5_sunny_FHD.xml',\n",
       " 'Suwon_CH03_20200722_1730_WED_9m_NH_highway_OW5_sunny_FHD.xml',\n",
       " 'Suwon_CH04_20201213_0737_SUN_9m_NH_highway_OW5_snow_FHD.xml',\n",
       " 'Suwon_CH03_20200720_1730_MON_9m_NH_highway_OW5_sunny_FHD.xml',\n",
       " 'Suwon_CH03_20200722_1900_WED_9m_NH_highway_OW5_sunny_FHD.xml']"
      ]
     },
     "execution_count": 14,
     "metadata": {},
     "output_type": "execute_result"
    }
   ],
   "source": [
    "# train의 xml 파일 목록을 리스트로 불러오기 \n",
    "import glob\n",
    "\n",
    "%cd {HOME}\n",
    "%cd ./highway/train/xmls\n",
    "xml_file_list = glob.glob('./**', recursive=True)\n",
    "xml_file_name = [os.path.basename(x) for x  in xml_file_list]\n",
    "xml_file_name"
   ]
  },
  {
   "cell_type": "code",
   "execution_count": 15,
   "id": "ac144512-b4e9-4b77-a848-ed1f86e724f2",
   "metadata": {
    "tags": []
   },
   "outputs": [
    {
     "data": {
      "text/plain": [
       "['Suwon_CH01_20200722_1900_WED_9m_RH_highway_TW5_sunny_FHD.xml',\n",
       " 'Suwon_CH02_20200721_1800_TUE_9m_RH_highway_TW5_sunny_FHD.xml',\n",
       " 'Suwon_CH03_20200720_1930_MON_9m_NH_highway_OW5_sunny_FHD.xml',\n",
       " 'Suwon_CH01_20201011_1830_SUN_9m_RH_highway_TW5_sunny_FHD.xml',\n",
       " 'Suwon_CH04_20200721_1700_TUE_9m_RH_highway_OW5_sunny_FHD.xml',\n",
       " 'Suwon_CH02_20200722_1700_WED_9m_RH_highway_TW5_sunny_FHD.xml',\n",
       " 'Suwon_CH02_20200720_1930_MON_9m_NH_highway_TW5_sunny_FHD.xml',\n",
       " 'Suwon_CH02_20200721_1530_TUE_9m_NH_highway_TW5_sunny_FHD.xml',\n",
       " 'Suwon_CH02_20200721_1600_TUE_9m_NH_highway_TW5_sunny_FHD.xml',\n",
       " 'Suwon_CH03_20200721_1700_TUE_9m_RH_highway_OW5_sunny_FHD.xml',\n",
       " 'Suwon_CH03_20200722_1630_WED_9m_NH_highway_OW5_sunny_FHD.xml',\n",
       " 'Suwon_CH03_20201012_1802_MON_9m_RH_highway_OW5_sunny_FHD.xml',\n",
       " 'Suwon_CH03_20200721_1800_TUE_9m_RH_highway_OW5_sunny_FHD.xml',\n",
       " 'Suwon_CH03_20201012_1732_MON_9m_RH_highway_OW5_sunny_FHD.xml',\n",
       " 'Suwon_CH03_20201213_0704_SUN_9m_NH_highway_OW5_snow_FHD.xml',\n",
       " 'Suwon_CH03_20201011_1843_SUN_9m_RH_highway_OW5_sunny_FHD.xml',\n",
       " 'Suwon_CH04_20200721_1930_TUE_9m_NH_highway_OW5_sunny_FHD.xml',\n",
       " 'Suwon_CH04_20200721_1630_TUE_9m_NH_highway_OW5_sunny_FHD.xml',\n",
       " 'Suwon_CH04_20200720_2000_MON_9m_NH_highway_OW5_sunny_FHD.xml',\n",
       " 'Suwon_CH04_20200722_1400_WED_9m_NH_highway_OW5_rainy_FHD.xml',\n",
       " 'Suwon_CH02_20200722_1530_WED_9m_NH_highway_TW5_rainy_FHD.xml',\n",
       " 'Suwon_CH01_20200721_1600_TUE_9m_NH_highway_TW5_sunny_FHD.xml',\n",
       " 'Suwon_CH01_20201011_1900_SUN_9m_RH_highway_TW5_sunny_FHD.xml',\n",
       " 'Suwon_CH01_20200722_1800_WED_9m_RH_highway_TW5_sunny_FHD.xml',\n",
       " 'Suwon_CH03_20200720_1830_MON_9m_NH_highway_OW5_sunny_FHD.xml',\n",
       " 'Suwon_CH01_20201010_1730_SAT_9m_RH_highway_TW5_sunny_FHD.xml',\n",
       " 'Suwon_CH02_20200721_2130_TUE_9m_NH_highway_TW5_sunny_FHD.xml',\n",
       " 'Suwon_CH04_20201011_1717_SUN_9m_NH_highway_OW5_sunny_FHD.xml',\n",
       " 'Suwon_CH02_20201012_1657_MON_9m_RH_highway_TW5_sunny_FHD.xml',\n",
       " 'Suwon_CH02_20201012_1928_MON_9m_RH_highway_TW5_sunny_FHD.xml',\n",
       " 'Suwon_CH01_20200721_2100_TUE_9m_NH_highway_TW5_sunny_FHD.xml',\n",
       " 'Suwon_CH01_20200721_1800_TUE_9m_RH_highway_TW5_sunny_FHD.xml',\n",
       " 'Suwon_CH02_20200720_1700_MON_9m_NH_highway_TW5_sunny_FHD.xml',\n",
       " 'Suwon_CH01_20200722_1600_WED_9m_RH_highway_TW5_rainy_FHD.xml',\n",
       " 'Suwon_CH02_20200721_2000_TUE_9m_NH_highway_TW5_sunny_FHD.xml',\n",
       " 'Suwon_CH02_20201012_1728_MON_9m_RH_highway_TW5_sunny_FHD.xml',\n",
       " 'Suwon_CH02_20201213_1204_SUN_9m_NH_highway_TW5_snow_FHD.xml',\n",
       " 'Suwon_CH01_20200721_1930_TUE_9m_RH_highway_TW5_sunny_FHD.xml',\n",
       " 'Suwon_CH04_20201012_1908_MON_9m_RH_highway_OW5_sunny_FHD.xml',\n",
       " 'Suwon_CH04_20201010_1748_SAT_9m_RH_highway_OW5_sunny_FHD.xml',\n",
       " 'Suwon_CH03_20200720_2000_MON_9m_NH_highway_OW5_sunny_FHD.xml',\n",
       " 'Suwon_CH04_20200720_1900_MON_9m_NH_highway_OW5_sunny_FHD.xml',\n",
       " 'Suwon_CH02_20201011_1736_SUN_9m_RH_highway_TW5_sunny_FHD.xml',\n",
       " 'Suwon_CH04_20200722_1900_WED_9m_NH_highway_OW5_sunny_FHD.xml',\n",
       " 'Suwon_CH01_20201213_1030_SUN_9m_NH_highway_TW5_snow_FHD.xml',\n",
       " 'Suwon_CH01_20201012_1653_MON_9m_RH_highway_TW5_sunny_FHD.xml',\n",
       " 'Suwon_CH04_20201011_1919_SUN_9m_RH_highway_OW5_sunny_FHD.xml',\n",
       " 'Suwon_CH01_20200722_1630_WED_9m_RH_highway_TW5_sunny_FHD.xml',\n",
       " 'Suwon_CH03_20200721_2100_TUE_9m_NH_highway_OW5_sunny_FHD.xml',\n",
       " 'Suwon_CH02_20201012_1858_MON_9m_RH_highway_TW5_sunny_FHD.xml',\n",
       " 'Suwon_CH02_20200721_1500_TUE_9m_NH_highway_TW5_sunny_FHD.xml',\n",
       " 'Suwon_CH01_20200720_1730_MON_9m_NH_highway_TW5_sunny_FHD.xml',\n",
       " 'Suwon_CH02_20200722_1630_WED_9m_RH_highway_TW5_rainy_FHD.xml',\n",
       " 'Suwon_CH04_20200722_1800_WED_9m_NH_highway_OW5_sunny_FHD.xml',\n",
       " 'Suwon_CH03_20200720_1700_MON_9m_NH_highway_OW5_sunny_FHD.xml',\n",
       " 'Suwon_CH01_20201012_1753_MON_9m_RH_highway_TW5_sunny_FHD.xml',\n",
       " 'Suwon_CH01_20201213_0930_SUN_9m_NH_highway_TW5_snow_FHD.xml',\n",
       " 'Suwon_CH03_20201213_0936_SUN_9m_NH_highway_OW5_snow_FHD.xml',\n",
       " 'Suwon_CH01_20201012_1853_MON_9m_RH_highway_TW5_sunny_FHD.xml',\n",
       " 'Suwon_CH03_20201010_1913_SAT_9m_NH_highway_OW5_sunny_FHD.xml',\n",
       " 'Suwon_CH02_20201010_1837_SAT_9m_RH_highway_TW5_sunny_FHD.xml',\n",
       " 'Suwon_CH01_20200720_1900_MON_9m_RH_highway_TW5_sunny_FHD.xml',\n",
       " 'Suwon_CH02_20200722_1400_WED_9m_NH_highway_TW5_rainy_FHD.xml',\n",
       " 'Suwon_CH03_20200721_2030_TUE_9m_NH_highway_OW5_sunny_FHD.xml',\n",
       " 'Suwon_CH02_20200722_1930_WED_9m_NH_highway_TW5_sunny_FHD.xml',\n",
       " 'Suwon_CH03_20201012_1833_MON_9m_RH_highway_OW5_sunny_FHD.xml',\n",
       " 'Suwon_CH04_20200722_1530_WED_9m_NH_highway_OW5_rainy_FHD.xml',\n",
       " 'Suwon_CH03_20201010_1742_SAT_9m_RH_highway_OW5_sunny_FHD.xml',\n",
       " 'Suwon_CH01_20200721_1900_TUE_9m_RH_highway_TW5_sunny_FHD.xml',\n",
       " 'Suwon_CH02_20200720_2000_MON_9m_NH_highway_TW5_sunny_FHD.xml',\n",
       " 'Suwon_CH01_20201012_1823_MON_9m_RH_highway_TW5_sunny_FHD.xml',\n",
       " 'Suwon_CH02_20200720_1630_MON_9m_NH_highway_TW5_sunny_FHD.xml',\n",
       " 'Suwon_CH04_20200722_1930_WED_9m_NH_highway_OW5_sunny_FHD.xml',\n",
       " 'Suwon_CH01_20200720_2030_MON_9m_NH_highway_TW5_sunny_FHD.xml',\n",
       " 'Suwon_CH04_20200721_1800_TUE_9m_RH_highway_OW5_sunny_FHD.xml',\n",
       " 'Suwon_CH02_20200720_1830_MON_9m_NH_highway_TW5_sunny_FHD.xml',\n",
       " 'Suwon_CH01_20201010_1900_SAT_9m_NH_highway_TW5_sunny_FHD.xml',\n",
       " 'Suwon_CH03_20201213_1137_SUN_9m_NH_highway_OW5_snow_FHD.xml',\n",
       " 'Suwon_CH03_20200721_1500_TUE_9m_NH_highway_OW5_sunny_FHD.xml',\n",
       " 'Suwon_CH04_20200721_2030_TUE_9m_NH_highway_OW5_sunny_FHD.xml',\n",
       " 'Suwon_CH04_20201012_1706_MON_9m_RH_highway_OW5_sunny_FHD.xml',\n",
       " 'Suwon_CH04_20200722_1430_WED_9m_NH_highway_OW5_rainy_FHD.xml',\n",
       " 'Suwon_CH04_20200722_1500_WED_9m_NH_highway_OW5_rainy_FHD.xml',\n",
       " 'Suwon_CH03_20201010_1812_SAT_9m_RH_highway_OW5_sunny_FHD.xml',\n",
       " 'Suwon_CH03_20201012_1903_MON_9m_RH_highway_OW5_sunny_FHD.xml',\n",
       " 'Suwon_CH03_20200722_1830_WED_9m_RH_highway_OW5_sunny_FHD.xml',\n",
       " 'Suwon_CH02_20200721_2100_TUE_9m_NH_highway_TW5_sunny_FHD.xml',\n",
       " 'Suwon_CH03_20201010_1842_SAT_9m_NH_highway_OW5_sunny_FHD.xml',\n",
       " 'Suwon_CH01_20200722_1830_WED_9m_RH_highway_TW5_sunny_FHD.xml',\n",
       " 'Suwon_CH02_20201012_1828_MON_9m_RH_highway_TW5_sunny_FHD.xml',\n",
       " 'Suwon_CH01_20200721_1500_TUE_9m_NH_highway_TW5_sunny_FHD.xml',\n",
       " 'Suwon_CH02_20201213_1033_SUN_9m_NH_highway_TW5_snow_FHD.xml',\n",
       " 'Suwon_CH02_20201011_1906_SUN_9m_RH_highway_TW5_sunny_FHD.xml',\n",
       " 'Suwon_CH01_20200722_1730_WED_9m_RH_highway_TW5_sunny_FHD.xml',\n",
       " 'Suwon_CH04_20200722_1700_WED_9m_NH_highway_OW5_sunny_FHD.xml',\n",
       " 'Suwon_CH01_20201213_0700_SUN_9m_NH_highway_TW5_snow_FHD.xml',\n",
       " 'Suwon_CH03_20200721_1930_TUE_9m_NH_highway_OW5_sunny_FHD.xml',\n",
       " 'Suwon_CH03_20200721_2130_TUE_9m_NH_highway_OW5_sunny_FHD.xml',\n",
       " 'Suwon_CH02_20200721_1630_TUE_9m_NH_highway_TW5_sunny_FHD.xml',\n",
       " 'Suwon_CH01_20201010_1800_SAT_9m_RH_highway_TW5_sunny_FHD.xml',\n",
       " 'Suwon_CH02_20201011_1836_SUN_9m_RH_highway_TW5_sunny_FHD.xml',\n",
       " 'Suwon_CH03_20200721_1430_TUE_9m_NH_highway_OW5_sunny_FHD.xml',\n",
       " 'Suwon_CH02_20200722_1600_WED_9m_RH_highway_TW5_rainy_FHD.xml',\n",
       " 'Suwon_CH04_20200722_1730_WED_9m_NH_highway_OW5_sunny_FHD.xml',\n",
       " 'Suwon_CH04_20200722_1630_WED_9m_NH_highway_OW5_rainy_FHD.xml',\n",
       " 'Suwon_CH02_20200720_1600_MON_9m_NH_highway_TW5_sunny_FHD.xml',\n",
       " 'Suwon_CH02_20200720_1730_MON_9m_NH_highway_TW5_sunny_FHD.xml',\n",
       " 'Suwon_CH01_20200720_1800_MON_9m_NH_highway_TW5_sunny_FHD.xml',\n",
       " 'Suwon_CH04_20201213_1142_SUN_9m_NH_highway_OW5_snow_FHD.xml',\n",
       " 'Suwon_CH01_20200721_1630_TUE_9m_NH_highway_TW5_sunny_FHD.xml',\n",
       " 'Suwon_CH04_20201012_1807_MON_9m_RH_highway_OW5_sunny_FHD.xml',\n",
       " 'Suwon_CH01_20200721_2030_TUE_9m_NH_highway_TW5_sunny_FHD.xml',\n",
       " 'Suwon_CH03_20201213_0835_SUN_9m_NH_highway_OW5_snow_FHD.xml',\n",
       " 'Suwon_CH01_20201010_1830_SAT_9m_RH_highway_TW5_sunny_FHD.xml',\n",
       " 'Suwon_CH04_20200720_1600_MON_9m_NH_highway_OW5_sunny_FHD.xml',\n",
       " 'Suwon_CH02_20200720_1900_MON_9m_NH_highway_TW5_sunny_FHD.xml',\n",
       " 'Suwon_CH02_20200722_1430_WED_9m_NH_highway_TW5_rainy_FHD.xml',\n",
       " 'Suwon_CH03_20201011_1943_SUN_9m_RH_highway_OW5_sunny_FHD.xml',\n",
       " 'Suwon_CH03_20201011_1812_SUN_9m_RH_highway_OW5_sunny_FHD.xml',\n",
       " 'Suwon_CH03_20200721_1530_TUE_9m_NH_highway_OW5_sunny_FHD.xml',\n",
       " 'Suwon_CH04_20201012_1939_MON_9m_RH_highway_OW5_sunny_FHD.xml',\n",
       " 'Suwon_CH02_20201010_1807_SAT_9m_RH_highway_TW5_sunny_FHD.xml',\n",
       " 'Suwon_CH04_20200720_2030_MON_9m_NH_highway_OW5_sunny_FHD.xml',\n",
       " 'Suwon_CH04_20200721_1900_TUE_9m_RH_highway_OW5_sunny_FHD.xml',\n",
       " 'Suwon_CH02_20200722_1830_WED_9m_RH_highway_TW5_sunny_FHD.xml',\n",
       " 'Suwon_CH03_20200721_1830_TUE_9m_RH_highway_OW5_sunny_FHD.xml',\n",
       " 'Suwon_CH03_20200722_1530_WED_9m_NH_highway_OW5_rainy_FHD.xml',\n",
       " 'Suwon_CH04_20200720_1730_MON_9m_NH_highway_OW5_sunny_FHD.xml',\n",
       " 'Suwon_CH04_20200720_1800_MON_9m_NH_highway_OW5_sunny_FHD.xml',\n",
       " 'Suwon_CH02_20201213_0732_SUN_9m_NH_highway_TW5_snow_FHD.xml',\n",
       " 'Suwon_CH04_20200721_2000_TUE_9m_NH_highway_OW5_sunny_FHD.xml',\n",
       " 'Suwon_CH01_20200720_2000_MON_9m_NH_highway_TW5_sunny_FHD.xml',\n",
       " 'Suwon_CH03_20200721_1600_TUE_9m_NH_highway_OW5_sunny_FHD.xml',\n",
       " 'Suwon_CH04_20200721_1530_TUE_9m_NH_highway_OW5_sunny_FHD.xml',\n",
       " 'Suwon_CH01_20200722_1330_WED_9m_NH_highway_TW5_rainy_FHD.xml',\n",
       " 'Suwon_CH04_20201010_1849_SAT_9m_NH_highway_OW5_sunny_FHD.xml',\n",
       " 'Suwon_CH01_20200722_1400_WED_9m_NH_highway_TW5_rainy_FHD.xml',\n",
       " 'Suwon_CH01_20200721_1730_TUE_9m_RH_highway_TW5_sunny_FHD.xml',\n",
       " 'Suwon_CH04_20201213_0838_SUN_9m_NH_highway_OW5_snow_FHD.xml',\n",
       " 'Suwon_CH03_20200720_1900_MON_9m_NH_highway_OW5_sunny_FHD.xml',\n",
       " 'Suwon_CH01_20200720_1930_MON_9m_NH_highway_TW5_sunny_FHD.xml',\n",
       " 'Suwon_CH01_20201012_1923_MON_9m_RH_highway_TW5_sunny_FHD.xml',\n",
       " 'Suwon_CH04_20201012_1737_MON_9m_RH_highway_OW5_sunny_FHD.xml',\n",
       " 'Suwon_CH02_20201010_1908_SAT_9m_NH_highway_TW5_sunny_FHD.xml',\n",
       " 'Suwon_CH04_20200720_1700_MON_9m_NH_highway_OW5_sunny_FHD.xml',\n",
       " 'Suwon_CH03_20200722_1800_WED_9m_NH_highway_OW5_sunny_FHD.xml',\n",
       " 'Suwon_CH02_20200721_1930_TUE_9m_RH_highway_TW5_sunny_FHD.xml',\n",
       " 'Suwon_CH02_20200722_1900_WED_9m_RH_highway_TW5_sunny_FHD.xml',\n",
       " 'Suwon_CH01_20200721_1530_TUE_9m_NH_highway_TW5_sunny_FHD.xml',\n",
       " 'Suwon_CH01_20200720_1700_MON_9m_NH_highway_TW5_sunny_FHD.xml',\n",
       " 'Suwon_CH02_20200722_1800_WED_9m_RH_highway_TW5_sunny_FHD.xml',\n",
       " 'Suwon_CH01_20201213_0730_SUN_9m_NH_highway_TW5_snow_FHD.xml',\n",
       " 'Suwon_CH04_20201010_1717_SAT_9m_NH_highway_OW5_sunny_FHD.xml',\n",
       " 'Suwon_CH03_20201011_1913_SUN_9m_RH_highway_OW5_sunny_FHD.xml',\n",
       " 'Suwon_CH03_20200722_1400_WED_9m_NH_highway_OW5_rainy_FHD.xml',\n",
       " 'Suwon_CH02_20200721_1830_TUE_9m_RH_highway_TW5_sunny_FHD.xml',\n",
       " 'Suwon_CH01_20200722_1500_WED_9m_NH_highway_TW5_rainy_FHD.xml',\n",
       " 'Suwon_CH04_20201011_1818_SUN_9m_RH_highway_OW5_sunny_FHD.xml',\n",
       " 'Suwon_CH01_20201011_1800_SUN_9m_RH_highway_TW5_sunny_FHD.xml',\n",
       " 'Suwon_CH04_20200720_1930_MON_9m_NH_highway_OW5_sunny_FHD.xml',\n",
       " 'Suwon_CH04_20201011_1748_SUN_9m_RH_highway_OW5_sunny_FHD.xml',\n",
       " 'Suwon_CH03_20200722_1500_WED_9m_NH_highway_OW5_rainy_FHD.xml',\n",
       " 'Suwon_CH01_20200722_1530_WED_9m_NH_highway_TW5_rainy_FHD.xml',\n",
       " 'Suwon_CH03_20200722_1600_WED_9m_NH_highway_OW5_sunny_FHD.xml',\n",
       " 'Suwon_CH03_20200722_1730_WED_9m_NH_highway_OW5_sunny_FHD.xml',\n",
       " 'Suwon_CH04_20201213_0737_SUN_9m_NH_highway_OW5_snow_FHD.xml',\n",
       " 'Suwon_CH03_20200720_1730_MON_9m_NH_highway_OW5_sunny_FHD.xml',\n",
       " 'Suwon_CH03_20200722_1900_WED_9m_NH_highway_OW5_sunny_FHD.xml']"
      ]
     },
     "execution_count": 15,
     "metadata": {},
     "output_type": "execute_result"
    }
   ],
   "source": [
    "# xml 파일 목록 중 확장자가 xml만 남기기\n",
    "xml_file_list = []\n",
    "for filename in xml_file_name:\n",
    "    if os.path.splitext(filename)[1] == '.xml':\n",
    "        xml_file_list.append(filename)\n",
    "\n",
    "xml_file_list"
   ]
  },
  {
   "cell_type": "code",
   "execution_count": 17,
   "id": "bf550c10-d7fc-46cf-9366-7d7c1e5d0b4c",
   "metadata": {
    "tags": []
   },
   "outputs": [
    {
     "data": {
      "text/plain": [
       "168"
      ]
     },
     "execution_count": 17,
     "metadata": {},
     "output_type": "execute_result"
    }
   ],
   "source": [
    "# xml 파일 수 확인하기\n",
    "len(xml_file_list)"
   ]
  },
  {
   "cell_type": "code",
   "execution_count": 107,
   "id": "761e6b18-2cf7-47e0-9cca-64e7a304a610",
   "metadata": {
    "tags": []
   },
   "outputs": [
    {
     "name": "stdout",
     "output_type": "stream",
     "text": [
      "/home/jupyter\n",
      "/home/jupyter/highway/valid/xmls/[라벨]1.수도권영동선\n"
     ]
    },
    {
     "data": {
      "text/plain": [
       "['',\n",
       " 'Suwon_CH02_20201011_1806_SUN_9m_RH_highway_TW5_sunny_FHD.xml',\n",
       " 'Suwon_CH02_20200720_2130_MON_9m_NH_highway_TW5_sunny_FHD.xml',\n",
       " 'Suwon_CH04_20200720_1830_MON_9m_NH_highway_OW5_sunny_FHD.xml',\n",
       " 'Suwon_CH01_20200720_1830_MON_9m_RH_highway_TW5_sunny_FHD.xml',\n",
       " 'Suwon_CH04_20201012_1838_MON_9m_RH_highway_OW5_sunny_FHD.xml',\n",
       " 'Suwon_CH03_20200720_2030_MON_9m_NH_highway_OW5_sunny_FHD.xml',\n",
       " 'Suwon_CH03_20200721_2000_TUE_9m_NH_highway_OW5_sunny_FHD.xml',\n",
       " 'Suwon_CH02_20200722_1730_WED_9m_NH_highway_TW5_sunny_FHD.xml',\n",
       " 'Suwon_CH03_20200722_1700_WED_9m_NH_highway_OW5_sunny_FHD.xml',\n",
       " 'Suwon_CH04_20200721_1830_TUE_9m_RH_highway_OW5_sunny_FHD.xml',\n",
       " 'Suwon_CH01_20200721_1700_TUE_9m_RH_highway_TW5_sunny_FHD.xml',\n",
       " 'Suwon_CH01_20201012_1723_MON_9m_RH_highway_TW5_sunny_FHD.xml',\n",
       " 'Suwon_CH03_20201012_1933_MON_9m_RH_highway_OW5_sunny_FHD.xml',\n",
       " 'Suwon_CH03_20201011_1742_SUN_9m_RH_highway_OW5_sunny_FHD.xml',\n",
       " 'Suwon_CH01_20200722_1430_WED_9m_NH_highway_TW5_rainy_FHD.xml',\n",
       " 'Suwon_CH04_20201010_1818_SAT_9m_RH_highway_OW5_sunny_FHD.xml',\n",
       " 'Suwon_CH02_20201213_0933_SUN_9m_NH_highway_TW5_snow_FHD.xml',\n",
       " 'Suwon_CH01_20201213_1200_SUN_9m_NH_highway_TW5_snow_FHD.xml',\n",
       " 'Suwon_CH02_20200721_2030_TUE_9m_NH_highway_TW5_sunny_FHD.xml',\n",
       " 'Suwon_CH04_20200722_1600_WED_9m_NH_highway_OW5_rainy_FHD.xml',\n",
       " 'Suwon_CH01_20200722_1930_WED_9m_NH_highway_TW5_sunny_FHD.xml']"
      ]
     },
     "execution_count": 107,
     "metadata": {},
     "output_type": "execute_result"
    }
   ],
   "source": [
    "# valid의 xml 파일 목록을 리스트로 불러오기 \n",
    "import glob\n",
    "\n",
    "%cd {HOME}\n",
    "%cd ./highway/val/xmls/[라벨]1.수도권영동선\n",
    "xml_file_list2 = glob.glob('./**', recursive=True)\n",
    "xml_file_name2 = [os.path.basename(x) for x  in xml_file_list2]\n",
    "xml_file_name2"
   ]
  },
  {
   "cell_type": "code",
   "execution_count": 108,
   "id": "9710c3bd-98ed-4d63-b33f-bdf7fafb7600",
   "metadata": {
    "tags": []
   },
   "outputs": [
    {
     "data": {
      "text/plain": [
       "['Suwon_CH02_20201011_1806_SUN_9m_RH_highway_TW5_sunny_FHD.xml',\n",
       " 'Suwon_CH02_20200720_2130_MON_9m_NH_highway_TW5_sunny_FHD.xml',\n",
       " 'Suwon_CH04_20200720_1830_MON_9m_NH_highway_OW5_sunny_FHD.xml',\n",
       " 'Suwon_CH01_20200720_1830_MON_9m_RH_highway_TW5_sunny_FHD.xml',\n",
       " 'Suwon_CH04_20201012_1838_MON_9m_RH_highway_OW5_sunny_FHD.xml',\n",
       " 'Suwon_CH03_20200720_2030_MON_9m_NH_highway_OW5_sunny_FHD.xml',\n",
       " 'Suwon_CH03_20200721_2000_TUE_9m_NH_highway_OW5_sunny_FHD.xml',\n",
       " 'Suwon_CH02_20200722_1730_WED_9m_NH_highway_TW5_sunny_FHD.xml',\n",
       " 'Suwon_CH03_20200722_1700_WED_9m_NH_highway_OW5_sunny_FHD.xml',\n",
       " 'Suwon_CH04_20200721_1830_TUE_9m_RH_highway_OW5_sunny_FHD.xml',\n",
       " 'Suwon_CH01_20200721_1700_TUE_9m_RH_highway_TW5_sunny_FHD.xml',\n",
       " 'Suwon_CH01_20201012_1723_MON_9m_RH_highway_TW5_sunny_FHD.xml',\n",
       " 'Suwon_CH03_20201012_1933_MON_9m_RH_highway_OW5_sunny_FHD.xml',\n",
       " 'Suwon_CH03_20201011_1742_SUN_9m_RH_highway_OW5_sunny_FHD.xml',\n",
       " 'Suwon_CH01_20200722_1430_WED_9m_NH_highway_TW5_rainy_FHD.xml',\n",
       " 'Suwon_CH04_20201010_1818_SAT_9m_RH_highway_OW5_sunny_FHD.xml',\n",
       " 'Suwon_CH02_20201213_0933_SUN_9m_NH_highway_TW5_snow_FHD.xml',\n",
       " 'Suwon_CH01_20201213_1200_SUN_9m_NH_highway_TW5_snow_FHD.xml',\n",
       " 'Suwon_CH02_20200721_2030_TUE_9m_NH_highway_TW5_sunny_FHD.xml',\n",
       " 'Suwon_CH04_20200722_1600_WED_9m_NH_highway_OW5_rainy_FHD.xml',\n",
       " 'Suwon_CH01_20200722_1930_WED_9m_NH_highway_TW5_sunny_FHD.xml']"
      ]
     },
     "execution_count": 108,
     "metadata": {},
     "output_type": "execute_result"
    }
   ],
   "source": [
    "# xml 파일 목록 중 확장자가 xml만 남기기\n",
    "xml_file_list2 = []\n",
    "for filename in xml_file_name2:\n",
    "    if os.path.splitext(filename)[1] == '.xml':\n",
    "        xml_file_list2.append(filename)\n",
    "\n",
    "xml_file_list2"
   ]
  },
  {
   "cell_type": "code",
   "execution_count": 109,
   "id": "4e27c62e-f796-4368-97f5-6002ffcea181",
   "metadata": {
    "tags": []
   },
   "outputs": [
    {
     "data": {
      "text/plain": [
       "21"
      ]
     },
     "execution_count": 109,
     "metadata": {},
     "output_type": "execute_result"
    }
   ],
   "source": [
    "# xml 파일 수 확인하기\n",
    "len(xml_file_list2)"
   ]
  },
  {
   "cell_type": "code",
   "execution_count": 21,
   "id": "2a295400-3ef9-4201-99ec-fe4941f37740",
   "metadata": {
    "tags": []
   },
   "outputs": [],
   "source": [
    "# !pip install lxml"
   ]
  },
  {
   "cell_type": "code",
   "execution_count": 33,
   "id": "30798070-2687-4cbb-a936-d7753ee6e93b",
   "metadata": {
    "tags": []
   },
   "outputs": [],
   "source": [
    "# xml을 txt 파일 형태로 변환할 함수 생성하기\n",
    "import numpy as np\n",
    "import lxml\n",
    "import os\n",
    "\n",
    "from lxml import etree\n",
    "\n",
    "CLASSES = [\"car\", \"bus\", \"truck\"]\n",
    "\n",
    "def to_yolov8(y):\n",
    "  \"\"\"\n",
    "  # change to yolo v8 format\n",
    "  # [x_top_left, y_top_left, x_bottom_right, y_bottom_right] to\n",
    "  # [x_center, y_center, width, height]\n",
    "  \"\"\"\n",
    "  width = y[2] - y[0]\n",
    "  height = y[3] - y[1]\n",
    "\n",
    "  if width < 0 or height < 0:\n",
    "      print(\"ERROR: negative width or height \", width, height, y)\n",
    "      raise AssertionError(\"Negative width or height\")\n",
    "  return (y[0] + (width/2)), (y[1] + (height/2)), width, height\n",
    "\n",
    "\n",
    "def load_xml_annotations(f):\n",
    "    tree = etree.parse(f)\n",
    "    anns = []\n",
    "    for dim in tree.xpath(\"image\"):\n",
    "        image_filename = dim.attrib[\"name\"]\n",
    "        width = int(dim.attrib[\"width\"])\n",
    "        height = int(dim.attrib[\"height\"])\n",
    "\n",
    "        boxes = []\n",
    "        for box in dim.xpath(\"box\"):\n",
    "            label = CLASSES.index(box.attrib[\"label\"])\n",
    "            xtl, ytl = box.attrib[\"xtl\"], box.attrib[\"ytl\"]\n",
    "            xbr, ybr = box.attrib[\"xbr\"], box.attrib[\"ybr\"]\n",
    "\n",
    "            if 'occluded' in box.attrib:\n",
    "                del box.attrib['occluded']\n",
    "            if 'order' in box.attrib:\n",
    "                del box.attrib['order']\n",
    "\n",
    "            xc, yc, w, h = to_yolov8([float(xtl), float(ytl), float(xbr), float(ybr)])\n",
    "            boxes.append([label, round(xc/width, 5), round(yc/height, 5), round(w/width, 5), round(h/height, 5)])\n",
    "\n",
    "        anns.append([image_filename, width, height, boxes])\n",
    "\n",
    "\n",
    "        if boxes:\n",
    "            anns.append([image_filename, width, height, boxes])\n",
    "\n",
    "    return anns\n",
    "\n",
    "def write_yolov8_txt(folder, annotation):\n",
    "  #print(annotation[0][:-3])\n",
    "  out_filename = os.path.join(folder,str(annotation[0][:-3]))\n",
    "  out_filename = os.path.splitext(out_filename)[0]\n",
    "  out_filename = out_filename+'.txt'\n",
    "\n",
    "  f = open(out_filename,\"w+\")\n",
    "  for box in annotation[3]:\n",
    "    f.write(\"{} {} {} {} {}\\n\".format(box[0], box[1], box[2], box[3], box[4]))"
   ]
  },
  {
   "cell_type": "code",
   "execution_count": 42,
   "id": "e665f2d5-1b44-4d71-b78f-7e62f9834c56",
   "metadata": {
    "tags": []
   },
   "outputs": [],
   "source": [
    "# 반복문으로 xml 파일을 txt 파일로 변환하기\n",
    "xmlPath = '/home/jupyter/highway/train/xmls'\n",
    "txtPath = '/home/jupyter/highway/train/labels'\n",
    "\n",
    "for xmlFile in xml_file_list:\n",
    "    labelFile = os.path.join(xmlPath, xmlFile) # 해당 파일이 있는 디렉토리 지정\n",
    "    # print(labelFile)\n",
    "    anns = load_xml_annotations(labelFile) # xml 파일에서 필요한 내용만 리스트로 정리\n",
    "    # print(anns) #\n",
    "    folderName = os.path.splitext(xmlFile)[0] # label 파일 안에 파일명 지정하기\n",
    "    os.makedirs(os.path.join(txtPath, folderName), exist_ok=True) # label 파일 안에 파일 생성하기\n",
    "    for ann in anns:\n",
    "        write_yolov8_txt(os.path.join(txtPath, folderName), ann) # 이미지 파일별로 txt 파일 저장하기"
   ]
  },
  {
   "cell_type": "code",
   "execution_count": 110,
   "id": "ae998f34-e6f0-47ee-b644-9ebedfafea6b",
   "metadata": {
    "tags": []
   },
   "outputs": [],
   "source": [
    "# 반복문으로 xml 파일을 txt 파일로 변환하기\n",
    "xmlPath = '/home/jupyter/highway/val/xmls/[라벨]1.수도권영동선'\n",
    "txtPath = '/home/jupyter/highway/val/labels'\n",
    "\n",
    "for xmlFile in xml_file_list2:\n",
    "    labelFile = os.path.join(xmlPath, xmlFile) # 해당 파일이 있는 디렉토리 지정\n",
    "    # print(labelFile)\n",
    "    anns = load_xml_annotations(labelFile) # xml 파일에서 필요한 내용만 리스트로 정리\n",
    "    # print(anns) #\n",
    "    folderName = os.path.splitext(xmlFile)[0] # label 파일 안에 파일명 지정하기\n",
    "    os.makedirs(os.path.join(txtPath, folderName), exist_ok=True) # label 파일 안에 파일 생성하기\n",
    "    for ann in anns:\n",
    "        write_yolov8_txt(os.path.join(txtPath, folderName), ann) # 이미지 파일별로 txt 파일 저장하기"
   ]
  },
  {
   "cell_type": "markdown",
   "id": "f5497f8c-281e-4a55-b015-a5183d479a11",
   "metadata": {},
   "source": [
    "# 고속도로 차량 탐지 YOLO 모델을 생성하기 위한 밑작업\n",
    "- git clone으로 ultralytics 불러오기\n",
    "- yaml 파일 생성하기\n",
    "- YOLO 모델을 돌리기 위해서 train, val 폴더 정리하기 (매우 중요!!!)"
   ]
  },
  {
   "cell_type": "code",
   "execution_count": 57,
   "id": "2841c5bc-9d49-44ad-9ad7-9f7cfaf23b52",
   "metadata": {
    "tags": []
   },
   "outputs": [
    {
     "name": "stdout",
     "output_type": "stream",
     "text": [
      "Setup complete. Using torch 1.13.1+cu117     (NVIDIA A100-SXM4-40GB)\n"
     ]
    }
   ],
   "source": [
    "# 현재 CPU 확인?\n",
    "import torch\n",
    "from IPython.display import Image, clear_output  # to display images\n",
    "\n",
    "clear_output()\n",
    "print(f\"Setup complete. Using torch {torch.__version__} \\\n",
    "    ({torch.cuda.get_device_properties(0).name if torch.cuda.is_available() else 'CPU'})\")"
   ]
  },
  {
   "cell_type": "code",
   "execution_count": 59,
   "id": "37355df7-7023-4ef9-b777-e72257fd7554",
   "metadata": {
    "tags": []
   },
   "outputs": [
    {
     "name": "stdout",
     "output_type": "stream",
     "text": [
      "Cloning into 'ultralytics'...\n",
      "remote: Enumerating objects: 18935, done.\u001b[K\n",
      "remote: Counting objects: 100% (119/119), done.\u001b[K\n",
      "remote: Compressing objects: 100% (57/57), done.\u001b[K\n",
      "remote: Total 18935 (delta 69), reused 99 (delta 62), pack-reused 18816\u001b[K\n",
      "Receiving objects: 100% (18935/18935), 10.24 MiB | 17.31 MiB/s, done.\n",
      "Resolving deltas: 100% (13256/13256), done.\n",
      "/home/jupyter/ultralytics\n"
     ]
    }
   ],
   "source": [
    "# YOLO 모델 TOOL 불러오기\n",
    "!git clone https://github.com/ultralytics/ultralytics\n",
    "%cd ultralytics"
   ]
  },
  {
   "cell_type": "code",
   "execution_count": 60,
   "id": "deab92f2-a346-443d-b5b7-b03ab347a276",
   "metadata": {
    "tags": []
   },
   "outputs": [
    {
     "name": "stdout",
     "output_type": "stream",
     "text": [
      "/home/jupyter/ultralytics\n"
     ]
    }
   ],
   "source": [
    "!pwd"
   ]
  },
  {
   "cell_type": "code",
   "execution_count": 61,
   "id": "35157f7c-ab1d-49d9-b9d3-4bf16ed1906a",
   "metadata": {
    "tags": []
   },
   "outputs": [
    {
     "name": "stdout",
     "output_type": "stream",
     "text": [
      "total 184\n",
      "drwxr-xr-x  9 jupyter jupyter  4096 Nov 21 05:13 .\n",
      "drwxr-xr-x 16 jupyter jupyter 20480 Nov 21 05:13 ..\n",
      "drwxr-xr-x  8 jupyter jupyter  4096 Nov 21 05:13 .git\n",
      "drwxr-xr-x  4 jupyter jupyter  4096 Nov 21 05:13 .github\n",
      "-rw-r--r--  1 jupyter jupyter  2295 Nov 21 05:13 .gitignore\n",
      "-rw-r--r--  1 jupyter jupyter  2316 Nov 21 05:13 .pre-commit-config.yaml\n",
      "-rw-r--r--  1 jupyter jupyter   612 Nov 21 05:13 CITATION.cff\n",
      "-rw-r--r--  1 jupyter jupyter  5597 Nov 21 05:13 CONTRIBUTING.md\n",
      "-rw-r--r--  1 jupyter jupyter 34523 Nov 21 05:13 LICENSE\n",
      "-rw-r--r--  1 jupyter jupyter   200 Nov 21 05:13 MANIFEST.in\n",
      "-rw-r--r--  1 jupyter jupyter 28854 Nov 21 05:13 README.md\n",
      "-rw-r--r--  1 jupyter jupyter 27878 Nov 21 05:13 README.zh-CN.md\n",
      "drwxr-xr-x  2 jupyter jupyter  4096 Nov 21 05:13 docker\n",
      "drwxr-xr-x 14 jupyter jupyter  4096 Nov 21 05:13 docs\n",
      "drwxr-xr-x  9 jupyter jupyter  4096 Nov 21 05:13 examples\n",
      "-rw-r--r--  1 jupyter jupyter  1253 Nov 21 05:13 requirements.txt\n",
      "-rw-r--r--  1 jupyter jupyter  2016 Nov 21 05:13 setup.cfg\n",
      "-rw-r--r--  1 jupyter jupyter  4069 Nov 21 05:13 setup.py\n",
      "drwxr-xr-x  2 jupyter jupyter  4096 Nov 21 05:13 tests\n",
      "drwxr-xr-x 11 jupyter jupyter  4096 Nov 21 05:13 ultralytics\n"
     ]
    }
   ],
   "source": [
    "!ls -al"
   ]
  },
  {
   "cell_type": "code",
   "execution_count": 117,
   "id": "9b0d77bc-a718-4130-acc0-d4f7c4f6653b",
   "metadata": {
    "tags": []
   },
   "outputs": [],
   "source": [
    "# yaml에 직접 쓰기를 실행하는 함수 생성하기\n",
    "from IPython.core.magic import register_line_cell_magic\n",
    "\n",
    "@register_line_cell_magic\n",
    "def writetemplate(line, cell):\n",
    "    with open(line, 'w') as f:\n",
    "        f.write(cell.format(**globals()))"
   ]
  },
  {
   "cell_type": "code",
   "execution_count": 115,
   "id": "b993f41c-1596-4c14-a7d0-32a20d3f0e74",
   "metadata": {
    "tags": []
   },
   "outputs": [
    {
     "data": {
      "text/plain": [
       "'/home/jupyter/highway/data.yaml'"
      ]
     },
     "execution_count": 115,
     "metadata": {},
     "output_type": "execute_result"
    }
   ],
   "source": [
    "# yaml 파일 만들 디렉토리 지정하기\n",
    "dataPath = '/home/jupyter/highway'\n",
    "\n",
    "dataYaml = os.path.join(dataPath, 'data.yaml')\n",
    "dataYaml"
   ]
  },
  {
   "cell_type": "code",
   "execution_count": 67,
   "id": "4a29b47b-153c-4eec-9484-c43a1ea1d5a7",
   "metadata": {
    "tags": []
   },
   "outputs": [
    {
     "name": "stdout",
     "output_type": "stream",
     "text": [
      "/home/jupyter\n",
      "/home/jupyter/highway\n"
     ]
    }
   ],
   "source": [
    "# test 데이터 넣을 디렉토리 생성하기 (만약 test 데이터를 추가하면 사용예정)\n",
    "%cd {HOME}\n",
    "%cd highway\n",
    "!mkdir test\n",
    "!mkdir test/images\n",
    "!mkdir test/labels"
   ]
  },
  {
   "cell_type": "code",
   "execution_count": 125,
   "id": "074cd057-2731-4a54-95fd-321b30143360",
   "metadata": {
    "tags": []
   },
   "outputs": [],
   "source": [
    "# 데이터 불러오는 경로 지정하기\n",
    "import os\n",
    "from glob import glob\n",
    "\n",
    "trainPath = os.path.join(dataPath,'train')\n",
    "validPath = os.path.join(dataPath,'val')\n",
    "testPath  = os.path.join(dataPath,'test')\n",
    "\n",
    "trainImagesPath = os.path.join(trainPath, 'images')\n",
    "validImagesPath = os.path.join(validPath, 'images')\n",
    "testImagesPath  = os.path.join(testPath,  'images')\n",
    "\n",
    "trainLabelsPath = os.path.join(trainPath, 'labels')\n",
    "validLabelsPath = os.path.join(validPath, 'labels')\n",
    "testLabelsPath  = os.path.join(testPath,  'labels')"
   ]
  },
  {
   "cell_type": "code",
   "execution_count": 126,
   "id": "d829fea0-f971-42d1-b0a8-58cbee3b2336",
   "metadata": {
    "tags": []
   },
   "outputs": [
    {
     "name": "stdout",
     "output_type": "stream",
     "text": [
      "/home/jupyter/highway/train/images\n",
      "/home/jupyter/highway/valid/images\n",
      "/home/jupyter/highway/test/images\n"
     ]
    }
   ],
   "source": [
    "print(trainImagesPath)\n",
    "print(validImagesPath)\n",
    "print(testImagesPath)"
   ]
  },
  {
   "cell_type": "code",
   "execution_count": 132,
   "id": "f72fe8ff-bd78-44d7-9ad3-e733fe5491e4",
   "metadata": {
    "tags": []
   },
   "outputs": [
    {
     "name": "stdout",
     "output_type": "stream",
     "text": [
      "/home/jupyter\n",
      "/home/jupyter/highway\n"
     ]
    }
   ],
   "source": [
    "%cd {HOME}\n",
    "%cd highway"
   ]
  },
  {
   "cell_type": "code",
   "execution_count": 133,
   "id": "93481bcf-a5c6-4550-ae5a-a0b7f69a4b2e",
   "metadata": {
    "tags": []
   },
   "outputs": [],
   "source": [
    "# yaml 파일에 내용 작성하기\n",
    "%%writetemplate {dataYaml}\n",
    "train: /home/jupyter/highway/train/images\n",
    "val: /home/jupyter/highway/val/images\n",
    "test: /home/jupyter/highway/test/images\n",
    "nc: 3\n",
    "names: ['car', 'bus', 'truck']"
   ]
  },
  {
   "cell_type": "code",
   "execution_count": 134,
   "id": "79b5239b-d625-4c2a-894f-1a4227f2b7fa",
   "metadata": {
    "tags": []
   },
   "outputs": [
    {
     "name": "stdout",
     "output_type": "stream",
     "text": [
      "/home/jupyter\n",
      "/home/jupyter/highway/val/labels\n"
     ]
    }
   ],
   "source": [
    "%cd {HOME}\n",
    "%cd highway/val/labels"
   ]
  },
  {
   "cell_type": "code",
   "execution_count": 138,
   "id": "d9139795-11b5-421f-8f6c-6bbe2b30a976",
   "metadata": {
    "tags": []
   },
   "outputs": [],
   "source": [
    "# /home/jupyter/highway/val/labels에 있는 모든 하위폴더 안 모든 파일을 /home/jupyter/highway/val/label로 옮기기\n",
    "!mv /home/jupyter/highway/val/labels/*/* /home/jupyter/highway/val/labels/"
   ]
  },
  {
   "cell_type": "code",
   "execution_count": 139,
   "id": "3c989057-a766-4e10-8c35-2c147fc3d163",
   "metadata": {
    "tags": []
   },
   "outputs": [],
   "source": [
    "# /home/jupyter/highway/val/labels에 있는 모든 하위폴더 삭제하기\n",
    "!rm -r /home/jupyter/highway/val/labels/*/"
   ]
  },
  {
   "cell_type": "code",
   "execution_count": 140,
   "id": "2056ca13-e86d-4fce-8584-ffc2bc8772ad",
   "metadata": {
    "tags": []
   },
   "outputs": [],
   "source": [
    "# 나머지 폴더들도 위와 같이 정리하기 (즉, images와 labels에 있는 모든 하위폴더 안 모든 파일을 상위폴더로 옮기기)\n",
    "!mv /home/jupyter/highway/val/images/BB_01수도권영동선_Validation_image/*/* /home/jupyter/highway/val/images"
   ]
  },
  {
   "cell_type": "code",
   "execution_count": 141,
   "id": "057cca99-6d15-4b43-97b4-85126d31ebc2",
   "metadata": {
    "tags": []
   },
   "outputs": [],
   "source": [
    "!rm -r /home/jupyter/highway/val/images/*/"
   ]
  },
  {
   "cell_type": "code",
   "execution_count": 143,
   "id": "1a662dad-0f4c-4409-ad57-8d7e5f3eb2e8",
   "metadata": {},
   "outputs": [],
   "source": [
    "!mv /home/jupyter/highway/val/images/val_image_1234.zip /home/jupyter/val_image_1234.zip"
   ]
  },
  {
   "cell_type": "code",
   "execution_count": 148,
   "id": "27466b3d-f49a-4cab-a87f-59d1eccc4109",
   "metadata": {
    "tags": []
   },
   "outputs": [],
   "source": [
    "!find /home/jupyter/highway/train/labels/* -type f -exec mv -t /home/jupyter/highway/train/labels/ {} +"
   ]
  },
  {
   "cell_type": "code",
   "execution_count": 149,
   "id": "6775a248-722f-4540-ae58-0fb6d0d35d8e",
   "metadata": {
    "tags": []
   },
   "outputs": [],
   "source": [
    "!rm -r /home/jupyter/highway/train/labels/*/"
   ]
  },
  {
   "cell_type": "code",
   "execution_count": 151,
   "id": "299a28f1-f177-41d6-a843-dec31a0d402e",
   "metadata": {
    "tags": []
   },
   "outputs": [],
   "source": [
    "!find /home/jupyter/highway/train/images/train_image_1234/* -type f -exec mv -t /home/jupyter/highway/train/images/ {} +"
   ]
  },
  {
   "cell_type": "code",
   "execution_count": 152,
   "id": "42512722-91d3-450d-aff9-3233ce2bf7d2",
   "metadata": {
    "tags": []
   },
   "outputs": [],
   "source": [
    "!rm -r /home/jupyter/highway/train/images/*/"
   ]
  },
  {
   "cell_type": "code",
   "execution_count": 150,
   "id": "7b8826da-abcb-4afc-a329-f64872f3e3ec",
   "metadata": {
    "tags": []
   },
   "outputs": [],
   "source": [
    "!mv /home/jupyter/highway/train/images/train_image.zip /home/jupyter/train_image.zip"
   ]
  }
 ],
 "metadata": {
  "environment": {
   "kernel": "python3",
   "name": ".m113",
   "type": "gcloud",
   "uri": "gcr.io/deeplearning-platform-release/:m113"
  },
  "kernelspec": {
   "display_name": "Python 3",
   "language": "python",
   "name": "python3"
  },
  "language_info": {
   "codemirror_mode": {
    "name": "ipython",
    "version": 3
   },
   "file_extension": ".py",
   "mimetype": "text/x-python",
   "name": "python",
   "nbconvert_exporter": "python",
   "pygments_lexer": "ipython3",
   "version": "3.10.13"
  }
 },
 "nbformat": 4,
 "nbformat_minor": 5
}
